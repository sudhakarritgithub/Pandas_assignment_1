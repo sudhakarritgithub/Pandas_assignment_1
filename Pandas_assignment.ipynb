{
 "cells": [
  {
   "cell_type": "raw",
   "id": "e6a9b460-758b-4c67-ba09-37b3f59ed5c0",
   "metadata": {},
   "source": [
    "                                        PANDAS ADVANCE ASSIGNMENT - 1"
   ]
  },
  {
   "cell_type": "raw",
   "id": "6ecfa84f-c293-4338-bbd8-6c8bb0c6abe1",
   "metadata": {},
   "source": [
    "                                        "
   ]
  },
  {
   "cell_type": "raw",
   "id": "5d3bb1ff-0a88-4fe6-b5c1-a540f0886143",
   "metadata": {},
   "source": [
    "                                        "
   ]
  },
  {
   "cell_type": "raw",
   "id": "494f8435-2bd9-4901-8e29-26d1c858a161",
   "metadata": {},
   "source": [
    "Ques.1  List any five functions of the pandas library with execution."
   ]
  },
  {
   "cell_type": "raw",
   "id": "6664b1c3-a221-4c48-a980-3a78f80f91b4",
   "metadata": {},
   "source": [
    "import pandas as pd\n",
    "\n",
    "# Read data from CSV file into a DataFrame\n",
    "data = pd.read_csv('data.csv')\n"
   ]
  },
  {
   "cell_type": "raw",
   "id": "9f6b73ff-b664-4be1-9051-562ec43ff8d6",
   "metadata": {},
   "source": [
    "# Display the first 5 rows of the DataFrame\n",
    "print(data.head())\n"
   ]
  },
  {
   "cell_type": "raw",
   "id": "8d4eec2a-89fd-4017-8182-a2475a7bfc9e",
   "metadata": {},
   "source": [
    "# Get information about the DataFrame\n",
    "print(data.info())\n"
   ]
  },
  {
   "cell_type": "raw",
   "id": "f88ad3d3-b305-43ea-bc44-0d5fb7528acf",
   "metadata": {},
   "source": [
    "# Generate descriptive statistics of the DataFrame\n",
    "print(data.describe())\n"
   ]
  },
  {
   "cell_type": "raw",
   "id": "a2438a67-d99d-453a-a0c8-8b9a538e729d",
   "metadata": {},
   "source": [
    "# Group data by a specific column\n",
    "grouped_data = data.groupby('column_name')\n"
   ]
  },
  {
   "cell_type": "raw",
   "id": "df732040-4aa3-4d68-add8-234654c0ad4e",
   "metadata": {},
   "source": []
  },
  {
   "cell_type": "raw",
   "id": "a619ad98-23fe-48ab-8256-cb08bfba367a",
   "metadata": {},
   "source": [
    "Ques.2  Given a Pandas DataFrame df with columns 'A', 'B', and 'C', write a Python function to re-index the DataFrame with a           new index that starts from 1 and increments by 2 for each row."
   ]
  },
  {
   "cell_type": "code",
   "execution_count": 2,
   "id": "7ba606df-0fbc-41be-8e65-38ed2b7cba16",
   "metadata": {},
   "outputs": [],
   "source": [
    "import pandas as pd\n",
    "\n",
    "def reindex_with_increment(df):\n",
    "    # Reset the index of the DataFrame\n",
    "    df_reset = df.reset_index(drop=True)\n",
    "    \n",
    "    # Generate a new index starting from 1 and incrementing by 2\n",
    "    new_index = pd.Series(range(1, len(df_reset) * 2, 2))\n",
    "    \n",
    "    # Assign the new index to the DataFrame\n",
    "    df_reset.index = new_index\n",
    "    \n",
    "    return df_reset\n",
    "\n",
    "# Example usage:\n",
    "# Assuming df is your original DataFrame with columns 'A', 'B', and 'C'\n",
    "# new_df = reindex_with_increment(df)\n"
   ]
  },
  {
   "cell_type": "raw",
   "id": "6251de67-8f09-4b69-b1d5-0cb11297f871",
   "metadata": {},
   "source": []
  },
  {
   "cell_type": "raw",
   "id": "a3799326-6eb1-4322-8ac6-f07e49532ab0",
   "metadata": {},
   "source": [
    "Ques.3 You have a Pandas DataFrame df with a column named 'Values'. Write a Python function that iterates over the DataFrame          and calculates the sum of the first three values in the 'Values' column. The function should print the sum to the              console."
   ]
  },
  {
   "cell_type": "code",
   "execution_count": 9,
   "id": "30680734-fbdc-474f-8772-9ce02012b8c2",
   "metadata": {},
   "outputs": [],
   "source": [
    "import pandas as pd\n",
    "\n",
    "def calculate_sum_of_first_three(df):\n",
    "    # Extract the first three values from the 'Values' column\n",
    "    first_three_values = df['Values'].iloc[:3]\n",
    "    \n",
    "    # Calculate the sum of the first three values\n",
    "    sum_of_first_three = first_three_values.sum()\n",
    "    \n",
    "    # Print the sum to the console\n",
    "    print(\"Sum of the first three values:\", sum_of_first_three)\n",
    "\n",
    "# Example usage:\n",
    "# Assuming df is your DataFrame with a column named 'Values'\n",
    "# calculate_sum_of_first_three(df)\n"
   ]
  },
  {
   "cell_type": "raw",
   "id": "3e43c414-e186-4686-a97b-a4b9b5cfdf81",
   "metadata": {},
   "source": [
    "For example, if the 'Values' column of df contains the values [10, 20, 30, 40, 50], your function should\n",
    "calculate and print the sum of the first three values, which is 6"
   ]
  },
  {
   "cell_type": "code",
   "execution_count": 12,
   "id": "4e42133d-8cb5-4c46-9aa1-bd1230cf7946",
   "metadata": {},
   "outputs": [
    {
     "name": "stdout",
     "output_type": "stream",
     "text": [
      "Sum of the first three values: 60\n"
     ]
    }
   ],
   "source": [
    "import pandas as pd\n",
    "\n",
    "def calculate_sum_of_first_three(df):\n",
    "    # Extract the 'Values' column from the DataFrame\n",
    "    values_column = df['Values']\n",
    "    \n",
    "    # Calculate the sum of the first three values\n",
    "    sum_of_first_three = values_column.iloc[:3].sum()\n",
    "    \n",
    "    # Print the sum to the console\n",
    "    print(\"Sum of the first three values:\", sum_of_first_three)\n",
    "\n",
    "# Example usage:\n",
    "# Create a DataFrame with the 'Values' column containing the values [10, 20, 30, 40, 50]\n",
    "df = pd.DataFrame({'Values': [10, 20, 30, 40, 50]})\n",
    "calculate_sum_of_first_three(df)\n"
   ]
  },
  {
   "cell_type": "raw",
   "id": "a0ebd0b1-822b-4025-b3b8-6efce722b473",
   "metadata": {},
   "source": []
  },
  {
   "cell_type": "raw",
   "id": "adaa4714-f8eb-44dd-baee-66b7d71ae38b",
   "metadata": {},
   "source": [
    "Ques.4  Given a Pandas DataFrame df with a column 'Text', write a Python function to create a new column 'Word_Count' that             contains the number of words in each row of the 'Text' column."
   ]
  },
  {
   "cell_type": "code",
   "execution_count": 1,
   "id": "4ad5694a-5de9-405d-b0ca-7d620fb3a304",
   "metadata": {},
   "outputs": [
    {
     "name": "stdout",
     "output_type": "stream",
     "text": [
      "                               Text  Word_Count\n",
      "0            This is a sample text.           5\n",
      "1  Another example with more words.           5\n",
      "2                    Only one word.           3\n"
     ]
    }
   ],
   "source": [
    "import pandas as pd\n",
    "\n",
    "def count_words(text):\n",
    "    return len(text.split())\n",
    "\n",
    "def add_word_count_column(df):\n",
    "    df['Word_Count'] = df['Text'].apply(count_words)\n",
    "    return df\n",
    "\n",
    "# Example usage\n",
    "# Create a sample DataFrame\n",
    "data = {'Text': ['This is a sample text.', 'Another example with more words.', 'Only one word.']}\n",
    "df = pd.DataFrame(data)\n",
    "\n",
    "# Add the Word_Count column\n",
    "df = add_word_count_column(df)\n",
    "\n",
    "print(df)\n"
   ]
  },
  {
   "cell_type": "raw",
   "id": "bacfdc94-5071-4e64-8dff-d73d284861d4",
   "metadata": {},
   "source": []
  },
  {
   "cell_type": "raw",
   "id": "5f2b93cd-0187-4435-8919-fa5d52bb0968",
   "metadata": {},
   "source": [
    "Ques.5  How are DataFrame.size() and DataFrame.shape() different?"
   ]
  },
  {
   "cell_type": "code",
   "execution_count": 2,
   "id": "b1a6ede3-be08-43c7-8fd9-3eddeb1df6e7",
   "metadata": {},
   "outputs": [
    {
     "name": "stdout",
     "output_type": "stream",
     "text": [
      "6\n"
     ]
    }
   ],
   "source": [
    "import pandas as pd\n",
    "\n",
    "# Create a DataFrame\n",
    "df = pd.DataFrame({'A': [1, 2, 3], 'B': [4, 5, 6]})\n",
    "\n",
    "# Get the size of the DataFrame\n",
    "size = df.size\n",
    "print(size)  # Output: 6\n"
   ]
  },
  {
   "cell_type": "code",
   "execution_count": 3,
   "id": "03b8f74e-23db-41d9-805a-cbd30da34192",
   "metadata": {},
   "outputs": [
    {
     "name": "stdout",
     "output_type": "stream",
     "text": [
      "(3, 2)\n"
     ]
    }
   ],
   "source": [
    "import pandas as pd\n",
    "\n",
    "# Create a DataFrame\n",
    "df = pd.DataFrame({'A': [1, 2, 3], 'B': [4, 5, 6]})\n",
    "\n",
    "# Get the shape of the DataFrame\n",
    "shape = df.shape\n",
    "print(shape)  # Output: (3, 2)\n"
   ]
  },
  {
   "cell_type": "raw",
   "id": "ab049696-77f0-4362-9a86-108437ce1c39",
   "metadata": {},
   "source": []
  },
  {
   "cell_type": "raw",
   "id": "6fc32366-2c7f-4253-92f3-e597e345a348",
   "metadata": {},
   "source": [
    "Ques.6 Which function of pandas do we use to read an excel file?"
   ]
  },
  {
   "cell_type": "code",
   "execution_count": null,
   "id": "38079536-d015-4184-8295-8b1a5072d2d7",
   "metadata": {},
   "outputs": [],
   "source": [
    "import pandas as pd\n",
    "\n",
    "# Read an Excel file into a DataFrame\n",
    "df = pd.read_excel('your_excel_file.xlsx')\n",
    "\n",
    "# Now you can work with the DataFrame\n",
    "print(df.head())  # Display the first few rows of the DataFrame\n"
   ]
  },
  {
   "cell_type": "raw",
   "id": "8a9f90ea-8cd7-4024-85b4-7e93d5c2b2b5",
   "metadata": {},
   "source": []
  },
  {
   "cell_type": "raw",
   "id": "79b6c156-4caa-4e52-bc2f-3962efabe91a",
   "metadata": {},
   "source": [
    "Ques.7  You have a Pandas DataFrame df that contains a column named 'Email' that contains email addresses in the format               'username@domain.com'. Write a Python function that creates a new column 'Username' in df that contains only the                username part of each email address."
   ]
  },
  {
   "cell_type": "code",
   "execution_count": 6,
   "id": "1551211b-d2c6-4b18-aca4-46b506635c40",
   "metadata": {},
   "outputs": [
    {
     "name": "stdout",
     "output_type": "stream",
     "text": [
      "                    Email    Username\n",
      "0    john.doe@example.com    john.doe\n",
      "1  jane.smith@example.com  jane.smith\n",
      "2         bob@example.com         bob\n"
     ]
    }
   ],
   "source": [
    "import pandas as pd\n",
    "\n",
    "def extract_username(df):\n",
    "    # Split the email addresses and extract the usernames\n",
    "    df['Username'] = df['Email'].apply(lambda email: email.split('@')[0])\n",
    "    return df\n",
    "\n",
    "# Example usage\n",
    "# Create a sample DataFrame\n",
    "data = {'Email': ['john.doe@example.com', 'jane.smith@example.com', 'bob@example.com']}\n",
    "df = pd.DataFrame(data)\n",
    "\n",
    "# Extract usernames and add them to the DataFrame\n",
    "df = extract_username(df)\n",
    "\n",
    "print(df)\n"
   ]
  },
  {
   "cell_type": "raw",
   "id": "9afb8c81-a55a-4435-96d2-cd5dc27e0c89",
   "metadata": {},
   "source": []
  },
  {
   "cell_type": "raw",
   "id": "cf587096-d45b-405e-bdf6-c827be8c2263",
   "metadata": {},
   "source": [
    "Ques.8 You have a Pandas DataFrame df with columns 'A', 'B', and 'C'. Write a Python function that selects all rows where the        value in column 'A' is greater than 5 and the value in column 'B' is less than 10. The function should return a new            DataFrame that contains only the selected rows.\n",
    "For example, if df contains the following values:\n",
    "\n",
    "A B C\n",
    "\n",
    "0 3 5 1\n",
    "\n",
    "1 8 2 7\n",
    "\n",
    "2 6 9 4\n",
    "\n",
    "3 2 3 5\n",
    "\n",
    "4 9 1 2 \n",
    "\n",
    "Your function should select the following rows: A B C\n",
    "\n",
    "1 8 2 7\n",
    "\n",
    "4 9 1 2\n",
    "\n",
    "The function should return a new DataFrame that contains only the selected rows."
   ]
  },
  {
   "cell_type": "code",
   "execution_count": 7,
   "id": "f93920bd-1d07-491c-a4a0-96542c43d079",
   "metadata": {},
   "outputs": [
    {
     "name": "stdout",
     "output_type": "stream",
     "text": [
      "   A  B  C\n",
      "1  8  2  7\n",
      "2  6  9  4\n",
      "4  9  1  2\n"
     ]
    }
   ],
   "source": [
    "import pandas as pd\n",
    "\n",
    "def select_rows(df):\n",
    "    # Select rows where value in column 'A' is greater than 5 and value in column 'B' is less than 10\n",
    "    selected_rows = df[(df['A'] > 5) & (df['B'] < 10)]\n",
    "    return selected_rows\n",
    "\n",
    "# Example usage\n",
    "# Create a sample DataFrame\n",
    "data = {'A': [3, 8, 6, 2, 9], 'B': [5, 2, 9, 3, 1], 'C': [1, 7, 4, 5, 2]}\n",
    "df = pd.DataFrame(data)\n",
    "\n",
    "# Select rows based on conditions and create a new DataFrame\n",
    "selected_df = select_rows(df)\n",
    "\n",
    "print(selected_df)\n"
   ]
  },
  {
   "cell_type": "raw",
   "id": "25c9da3a-2b84-4286-bfd1-160357342193",
   "metadata": {},
   "source": []
  },
  {
   "cell_type": "raw",
   "id": "45ff947e-b1ea-4ece-b18c-13f7372aaf3e",
   "metadata": {},
   "source": [
    "Ques.9  Given a Pandas DataFrame df with a column 'Values', write a Python function to calculate the mean,median, and                 standard deviation of the values in the 'Values' column."
   ]
  },
  {
   "cell_type": "code",
   "execution_count": 8,
   "id": "1beab30c-0540-4835-9e5f-01b097543d24",
   "metadata": {},
   "outputs": [
    {
     "name": "stdout",
     "output_type": "stream",
     "text": [
      "Mean: 30.0\n",
      "Median: 30.0\n",
      "Standard Deviation: 15.811388300841896\n"
     ]
    }
   ],
   "source": [
    "import pandas as pd\n",
    "import numpy as np\n",
    "\n",
    "def calculate_stats(df):\n",
    "    # Calculate mean, median, and standard deviation\n",
    "    mean_value = df['Values'].mean()\n",
    "    median_value = df['Values'].median()\n",
    "    std_dev = df['Values'].std()\n",
    "    \n",
    "    return mean_value, median_value, std_dev\n",
    "\n",
    "# Example usage\n",
    "# Create a sample DataFrame\n",
    "data = {'Values': [10, 20, 30, 40, 50]}\n",
    "df = pd.DataFrame(data)\n",
    "\n",
    "# Calculate statistics\n",
    "mean, median, std_dev = calculate_stats(df)\n",
    "\n",
    "print(\"Mean:\", mean)\n",
    "print(\"Median:\", median)\n",
    "print(\"Standard Deviation:\", std_dev)\n"
   ]
  },
  {
   "cell_type": "raw",
   "id": "32e4cf94-b48d-48ce-b8aa-f697af9a6fad",
   "metadata": {},
   "source": []
  },
  {
   "cell_type": "raw",
   "id": "6ec84121-bb97-4f7f-91be-d983f24ff93c",
   "metadata": {},
   "source": [
    "Ques.10  Given a Pandas DataFrame df with a column 'Sales' and a column 'Date', write a Python function to create a new column         'MovingAverage' that contains the moving average of the sales for the past 7 days for each row in the DataFrame. The            moving average should be calculated using a window of size 7 and should include the current day."
   ]
  },
  {
   "cell_type": "code",
   "execution_count": 9,
   "id": "846c89cf-d3a1-4745-b148-1f1477776b2f",
   "metadata": {},
   "outputs": [
    {
     "name": "stdout",
     "output_type": "stream",
     "text": [
      "        Date  Sales  MovingAverage\n",
      "0 2024-05-01    100          100.0\n",
      "1 2024-05-02    110          105.0\n",
      "2 2024-05-03    120          110.0\n",
      "3 2024-05-04    130          115.0\n",
      "4 2024-05-05    140          120.0\n",
      "5 2024-05-06    150          125.0\n",
      "6 2024-05-07    160          130.0\n",
      "7 2024-05-08    170          140.0\n"
     ]
    }
   ],
   "source": [
    "import pandas as pd\n",
    "\n",
    "def calculate_moving_average(df):\n",
    "    # Convert the 'Date' column to datetime if it's not already\n",
    "    df['Date'] = pd.to_datetime(df['Date'])\n",
    "    \n",
    "    # Sort the DataFrame by date if it's not already sorted\n",
    "    df = df.sort_values(by='Date')\n",
    "    \n",
    "    # Calculate the moving average using a window of size 7\n",
    "    df['MovingAverage'] = df['Sales'].rolling(window=7, min_periods=1).mean()\n",
    "    \n",
    "    return df\n",
    "\n",
    "# Example usage\n",
    "# Create a sample DataFrame\n",
    "data = {'Date': ['2024-05-01', '2024-05-02', '2024-05-03', '2024-05-04', '2024-05-05', '2024-05-06', '2024-05-07', '2024-05-08'],\n",
    "        'Sales': [100, 110, 120, 130, 140, 150, 160, 170]}\n",
    "df = pd.DataFrame(data)\n",
    "\n",
    "# Calculate moving average and add it to the DataFrame\n",
    "df = calculate_moving_average(df)\n",
    "\n",
    "print(df)\n"
   ]
  },
  {
   "cell_type": "raw",
   "id": "ad7a3abf-7a92-4a64-8d0d-b8880ae5f328",
   "metadata": {},
   "source": []
  },
  {
   "cell_type": "raw",
   "id": "95f697b9-2126-4ce2-80f2-f5e8bd472b8b",
   "metadata": {},
   "source": [
    "Ques.11  You have a Pandas DataFrame df with a column 'Date'. Write a Python function that creates a new column 'Weekday' in            the DataFrame. The 'Weekday' column should contain the weekday name (e.g.Monday, Tuesday) corresponding to each date          in the 'Date' column.\n",
    "\n",
    "For example, if df contains the following values:\n",
    "\n",
    "Date\n",
    "\n",
    "0 2023-01-01\n",
    "\n",
    "1 2023-01-02\n",
    "\n",
    "2 2023-01-03\n",
    "\n",
    "3 2023-01-04\n",
    "\n",
    "4 2023-01-05\n",
    "\n",
    "Your function should create the following DataFrame:\n",
    "\n",
    "Date Weekday\n",
    "\n",
    "0 2023-01-01 Sunday\n",
    "\n",
    "1 2023-01-02 Monday\n",
    "\n",
    "2 2023-01-03 Tuesday\n",
    "\n",
    "3 2023-01-04 Wednesday\n",
    "\n",
    "4 2023-01-05 Thursday\n",
    "\n",
    "The function should return the modified DataFrame."
   ]
  },
  {
   "cell_type": "code",
   "execution_count": 11,
   "id": "fb7a1f7f-30b3-4254-ad70-f29fdb57148c",
   "metadata": {},
   "outputs": [
    {
     "name": "stdout",
     "output_type": "stream",
     "text": [
      "        Date    Weekday\n",
      "0 2023-01-01     Sunday\n",
      "1 2023-01-02     Monday\n",
      "2 2023-01-03    Tuesday\n",
      "3 2023-01-04  Wednesday\n",
      "4 2023-01-05   Thursday\n"
     ]
    }
   ],
   "source": [
    "import pandas as pd\n",
    "\n",
    "def add_weekday_column(df):\n",
    "    # Convert the 'Date' column to datetime if it's not already\n",
    "    df['Date'] = pd.to_datetime(df['Date'])\n",
    "    \n",
    "    # Add a new column 'Weekday' containing the weekday name\n",
    "    df['Weekday'] = df['Date'].dt.day_name()\n",
    "    \n",
    "    return df\n",
    "\n",
    "# Example usage\n",
    "# Create a sample DataFrame\n",
    "data = {'Date': ['2023-01-01', '2023-01-02', '2023-01-03', '2023-01-04', '2023-01-05']}\n",
    "df = pd.DataFrame(data)\n",
    "\n",
    "# Add 'Weekday' column\n",
    "df = add_weekday_column(df)\n",
    "\n",
    "print(df)\n"
   ]
  },
  {
   "cell_type": "raw",
   "id": "6e72e381-f382-4440-96ba-6f708f71e733",
   "metadata": {},
   "source": []
  },
  {
   "cell_type": "raw",
   "id": "506a26aa-a98c-4de7-b6ea-48af8edaad59",
   "metadata": {},
   "source": [
    "Ques.12  Given a Pandas DataFrame df with a column 'Date' that contains timestamps, write a Python function to select all              rows where the date is between '2023-01-01' and '2023-01-31'."
   ]
  },
  {
   "cell_type": "code",
   "execution_count": 12,
   "id": "f9b5b682-0e6b-4677-ad77-49b6035156fa",
   "metadata": {},
   "outputs": [
    {
     "name": "stdout",
     "output_type": "stream",
     "text": [
      "        Date\n",
      "0 2023-01-01\n",
      "1 2023-01-15\n",
      "2 2023-01-31\n"
     ]
    }
   ],
   "source": [
    "import pandas as pd\n",
    "\n",
    "def select_rows_in_date_range(df, start_date, end_date):\n",
    "    # Convert the 'Date' column to datetime if it's not already\n",
    "    df['Date'] = pd.to_datetime(df['Date'])\n",
    "    \n",
    "    # Select rows where date is between start_date and end_date\n",
    "    selected_rows = df[(df['Date'] >= start_date) & (df['Date'] <= end_date)]\n",
    "    \n",
    "    return selected_rows\n",
    "\n",
    "# Example usage\n",
    "# Create a sample DataFrame\n",
    "data = {'Date': ['2023-01-01', '2023-01-15', '2023-01-31', '2023-02-10']}\n",
    "df = pd.DataFrame(data)\n",
    "\n",
    "# Select rows between '2023-01-01' and '2023-01-31'\n",
    "start_date = '2023-01-01'\n",
    "end_date = '2023-01-31'\n",
    "selected_df = select_rows_in_date_range(df, start_date, end_date)\n",
    "\n",
    "print(selected_df)\n"
   ]
  },
  {
   "cell_type": "raw",
   "id": "eb74591a-52c2-4196-a2b1-68fab47a250b",
   "metadata": {},
   "source": []
  },
  {
   "cell_type": "raw",
   "id": "df3f86b7-187e-48eb-83d8-4876c21875ca",
   "metadata": {},
   "source": [
    "Ques.13 "
   ]
  }
 ],
 "metadata": {
  "kernelspec": {
   "display_name": "Python 3 (ipykernel)",
   "language": "python",
   "name": "python3"
  },
  "language_info": {
   "codemirror_mode": {
    "name": "ipython",
    "version": 3
   },
   "file_extension": ".py",
   "mimetype": "text/x-python",
   "name": "python",
   "nbconvert_exporter": "python",
   "pygments_lexer": "ipython3",
   "version": "3.10.8"
  }
 },
 "nbformat": 4,
 "nbformat_minor": 5
}
